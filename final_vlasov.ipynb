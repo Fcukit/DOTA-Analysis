{
 "cells": [
  {
   "cell_type": "markdown",
   "metadata": {},
   "source": [
    "Какие признаки имеют пропуски среди своих значений (приведите полный список имен этих признаков)? Что могут означать пропуски в этих признаках (ответьте на этот вопрос для двух любых признаков)?"
   ]
  },
  {
   "cell_type": "code",
   "execution_count": 5,
   "metadata": {
    "collapsed": false
   },
   "outputs": [
    {
     "name": "stdout",
     "output_type": "stream",
     "text": [
      "['start_time', 'lobby_type', 'r1_hero', 'r1_level', 'r1_xp', 'r1_gold', 'r1_lh', 'r1_kills', 'r1_deaths', 'r1_items', 'r2_hero', 'r2_level', 'r2_xp', 'r2_gold', 'r2_lh', 'r2_kills', 'r2_deaths', 'r2_items', 'r3_hero', 'r3_level', 'r3_xp', 'r3_gold', 'r3_lh', 'r3_kills', 'r3_deaths', 'r3_items', 'r4_hero', 'r4_level', 'r4_xp', 'r4_gold', 'r4_lh', 'r4_kills', 'r4_deaths', 'r4_items', 'r5_hero', 'r5_level', 'r5_xp', 'r5_gold', 'r5_lh', 'r5_kills', 'r5_deaths', 'r5_items', 'd1_hero', 'd1_level', 'd1_xp', 'd1_gold', 'd1_lh', 'd1_kills', 'd1_deaths', 'd1_items', 'd2_hero', 'd2_level', 'd2_xp', 'd2_gold', 'd2_lh', 'd2_kills', 'd2_deaths', 'd2_items', 'd3_hero', 'd3_level', 'd3_xp', 'd3_gold', 'd3_lh', 'd3_kills', 'd3_deaths', 'd3_items', 'd4_hero', 'd4_level', 'd4_xp', 'd4_gold', 'd4_lh', 'd4_kills', 'd4_deaths', 'd4_items', 'd5_hero', 'd5_level', 'd5_xp', 'd5_gold', 'd5_lh', 'd5_kills', 'd5_deaths', 'd5_items', 'first_blood_time', 'first_blood_team', 'first_blood_player1', 'first_blood_player2', 'radiant_bottle_time', 'radiant_courier_time', 'radiant_flying_courier_time', 'radiant_tpscroll_count', 'radiant_boots_count', 'radiant_ward_observer_count', 'radiant_ward_sentry_count', 'radiant_first_ward_time', 'dire_bottle_time', 'dire_courier_time', 'dire_flying_courier_time', 'dire_tpscroll_count', 'dire_boots_count', 'dire_ward_observer_count', 'dire_ward_sentry_count', 'dire_first_ward_time', 'duration', 'radiant_win', 'tower_status_radiant', 'tower_status_dire', 'barracks_status_radiant', 'barracks_status_dire']\n",
      "dire_courier_time              0.006953\n",
      "radiant_courier_time           0.007117\n",
      "dire_first_ward_time           0.018780\n",
      "radiant_first_ward_time        0.018883\n",
      "radiant_bottle_time            0.161380\n",
      "dire_bottle_time               0.166029\n",
      "first_blood_time               0.201100\n",
      "first_blood_team               0.201100\n",
      "first_blood_player1            0.201100\n",
      "dire_flying_courier_time       0.268415\n",
      "radiant_flying_courier_time    0.282619\n",
      "first_blood_player2            0.452402\n",
      "dtype: float64\n"
     ]
    }
   ],
   "source": [
    "import numpy as np\n",
    "import pandas\n",
    "\n",
    "features = pandas.read_csv('D:/Anaconda2/IPN/features.csv', index_col='match_id')\n",
    "rows = features.shape[0]\n",
    "columns = features.columns.values.tolist()\n",
    "not_nan_list = features[columns].isnull().sum().sort_values() / rows\n",
    "print not_nan_list[not_nan_list > 0]\n"
   ]
  },
  {
   "cell_type": "markdown",
   "metadata": {},
   "source": [
    "dire_courier_time (время приобретения предмета \"courier\" дайрами) - примерно в 0.7% случаев команды Dire не покупают данный предмет в первые 5 минут. \n",
    "radiant_courier_time (время приобретения предмета \"courier\" радиантами) - примерно в 0.7% случаев команды Radiant не покупают данный предмет в первые 5 минут. \n",
    "dire_first_ward_time (время установки командой первого \"наблюдателя\") - примерно в 1.8% случаев команды Dire не покупают \"вард\" в первые 5 минут.\n",
    "radiant_first_ward_time (время установки командой первого \"наблюдателя\") - примерно в 1.8% случаев команды Radiant не покупают \"вард\" в первые 5 минут.\n",
    "\n",
    "first_blood_player2 (второй игрок, причастный к событию) - "
   ]
  }
 ],
 "metadata": {
  "kernelspec": {
   "display_name": "Python [conda root]",
   "language": "python",
   "name": "conda-root-py"
  },
  "language_info": {
   "codemirror_mode": {
    "name": "ipython",
    "version": 2
   },
   "file_extension": ".py",
   "mimetype": "text/x-python",
   "name": "python",
   "nbconvert_exporter": "python",
   "pygments_lexer": "ipython2",
   "version": "2.7.12"
  }
 },
 "nbformat": 4,
 "nbformat_minor": 1
}
